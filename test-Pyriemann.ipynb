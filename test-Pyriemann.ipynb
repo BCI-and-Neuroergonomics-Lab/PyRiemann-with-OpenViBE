{
 "cells": [
  {
   "cell_type": "code",
   "execution_count": 1,
   "id": "0e4e7fbe",
   "metadata": {},
   "outputs": [],
   "source": [
    "import pyriemann\n",
    "from sklearn.model_selection import cross_val_score"
   ]
  },
  {
   "cell_type": "markdown",
   "id": "296616d0",
   "metadata": {},
   "source": [
    "## Scripts modified from: https://github.com/pyRiemann/pyRiemann"
   ]
  },
  {
   "cell_type": "code",
   "execution_count": 2,
   "id": "444d17e3",
   "metadata": {},
   "outputs": [],
   "source": [
    "import mne\n",
    "from mne.io import read_raw_gdf\n",
    "import scipy\n",
    "from scipy import signal\n",
    "from scipy.signal import butter, filtfilt, sosfiltfilt\n",
    "\n",
    "import matplotlib\n",
    "import matplotlib.pyplot as plt\n",
    "import numpy as np"
   ]
  },
  {
   "cell_type": "markdown",
   "id": "d393eee8",
   "metadata": {},
   "source": [
    "### Bandpass filter"
   ]
  },
  {
   "cell_type": "code",
   "execution_count": 3,
   "id": "79733b5d",
   "metadata": {},
   "outputs": [],
   "source": [
    "def butter_lowpass_filter(data, lowcut, fs, order):\n",
    "    nyq = fs/2\n",
    "    low = lowcut/nyq\n",
    "    b, a = butter(order, low, btype='low')\n",
    "    # demean before filtering\n",
    "    meandat = np.mean(data, axis=1)\n",
    "    data = data - meandat[:, np.newaxis]\n",
    "    y = filtfilt(b, a, data) # zero-phase filter # data: [ch x time]\n",
    "    return y\n",
    "\n",
    "def butter_highpass_filter(data, highcut, fs, order):\n",
    "    nyq = fs/2\n",
    "    high = highcut/nyq\n",
    "    b, a = butter(order, high, btype='high')\n",
    "    # demean before filtering\n",
    "    meandat = np.mean(data, axis=1)\n",
    "    data = data - meandat[:, np.newaxis]\n",
    "    y = filtfilt(b, a, data) # zero-phase filter # data: [ch x time]\n",
    "    return y\n",
    "\n",
    "def butter_bandpass_filter(data, lowcut, highcut, fs, order):\n",
    "    nyq = fs/2\n",
    "    low = lowcut/nyq\n",
    "    high = highcut/nyq\n",
    "    sos = butter(order, [low, high], btype='band', output='sos')\n",
    "    # demean before filtering\n",
    "    meandat = np.mean(data, axis=1)\n",
    "    data = data - meandat[:, np.newaxis]\n",
    "    y = sosfiltfilt(sos, data) # zero-phase filter # data: [ch x time]\n",
    "    # specify pandlen to make the result the same as Matlab filtfilt()\n",
    "    return y"
   ]
  },
  {
   "cell_type": "markdown",
   "id": "5350a292",
   "metadata": {},
   "source": [
    "### Load EEG"
   ]
  },
  {
   "cell_type": "code",
   "execution_count": 153,
   "id": "ac91f306",
   "metadata": {},
   "outputs": [],
   "source": [
    "# 769, 770, 774, 780 - left, right, up (tongue), down (feet)\n",
    "markers = [769, 770, 774, 780]\n",
    "markers_arr = {769:0, 770:1, 774:2, 780:3}\n",
    "\n",
    "# for g.tec EEG\n",
    "nCh = 16\n",
    "fs = 512\n",
    "frame = [0.5, 3]\n",
    "nTime = int((frame[1]-frame[0]) * 512)\n",
    "nTrial = 10\n",
    "nClass = len(markers)\n",
    "bp = [8, 30]"
   ]
  },
  {
   "cell_type": "markdown",
   "id": "68df61ba",
   "metadata": {},
   "source": [
    "### Training with calibration EEG"
   ]
  },
  {
   "cell_type": "code",
   "execution_count": 154,
   "id": "0482d5d8",
   "metadata": {},
   "outputs": [
    {
     "name": "stdout",
     "output_type": "stream",
     "text": [
      "./data/s01/MI_run01.gdf\n",
      "Extracting EDF parameters from /Users/kyunghowon/PyRiemann_to_OV/data/s01/MI_run01.gdf...\n",
      "GDF file detected\n",
      "Setting channel info structure...\n",
      "Could not determine channel type of the following channels, they will be set as EEG:\n",
      "FP1, FP2, F4, Fz, F3, T7, C3, Cz, C4, T8, P4, Pz, P3, O1, Oz, O2\n",
      "Creating raw.info structure...\n"
     ]
    },
    {
     "name": "stderr",
     "output_type": "stream",
     "text": [
      "/var/folders/k1/q406tggx1bl9zn8ls0_4pdsc0000gn/T/ipykernel_4658/2385765613.py:11: RuntimeWarning: Omitted 1 annotation(s) that were outside data range.\n",
      "  eeg = read_raw_gdf(fname)\n"
     ]
    },
    {
     "name": "stdout",
     "output_type": "stream",
     "text": [
      "current marker is 769\n",
      "current marker is 770\n",
      "current marker is 774\n",
      "current marker is 780\n",
      "./data/s01/MI_run02.gdf\n",
      "Extracting EDF parameters from /Users/kyunghowon/PyRiemann_to_OV/data/s01/MI_run02.gdf...\n",
      "GDF file detected\n",
      "Setting channel info structure...\n",
      "Could not determine channel type of the following channels, they will be set as EEG:\n",
      "FP1, FP2, F4, Fz, F3, T7, C3, Cz, C4, T8, P4, Pz, P3, O1, Oz, O2\n",
      "Creating raw.info structure...\n"
     ]
    },
    {
     "name": "stderr",
     "output_type": "stream",
     "text": [
      "/var/folders/k1/q406tggx1bl9zn8ls0_4pdsc0000gn/T/ipykernel_4658/2385765613.py:11: RuntimeWarning: Omitted 1 annotation(s) that were outside data range.\n",
      "  eeg = read_raw_gdf(fname)\n"
     ]
    },
    {
     "name": "stdout",
     "output_type": "stream",
     "text": [
      "current marker is 769\n",
      "current marker is 770\n",
      "current marker is 774\n",
      "current marker is 780\n",
      "./data/s01/MI_run03.gdf\n",
      "Extracting EDF parameters from /Users/kyunghowon/PyRiemann_to_OV/data/s01/MI_run03.gdf...\n",
      "GDF file detected\n",
      "Setting channel info structure...\n",
      "Could not determine channel type of the following channels, they will be set as EEG:\n",
      "FP1, FP2, F4, Fz, F3, T7, C3, Cz, C4, T8, P4, Pz, P3, O1, Oz, O2\n",
      "Creating raw.info structure...\n"
     ]
    },
    {
     "name": "stderr",
     "output_type": "stream",
     "text": [
      "/var/folders/k1/q406tggx1bl9zn8ls0_4pdsc0000gn/T/ipykernel_4658/2385765613.py:11: RuntimeWarning: Omitted 1 annotation(s) that were outside data range.\n",
      "  eeg = read_raw_gdf(fname)\n"
     ]
    },
    {
     "name": "stdout",
     "output_type": "stream",
     "text": [
      "current marker is 769\n",
      "current marker is 770\n",
      "current marker is 774\n",
      "current marker is 780\n",
      "(120, 16, 1280)\n",
      "(120,)\n"
     ]
    }
   ],
   "source": [
    "train_EEG = np.array([]).reshape(0, nCh, nTime)\n",
    "train_labels = []\n",
    "tmp_labels = [[(j+1) for i in range(10)] for j in range(nClass)]\n",
    "tmp_labels = np.array(tmp_labels)\n",
    "tmp_labels = np.reshape(tmp_labels, (tmp_labels.shape[0]*tmp_labels.shape[1]))\n",
    "\n",
    "for i in range(3):\n",
    "    fname = './data/s01/MI_run%02d.gdf' % (i+1)\n",
    "    print(fname)\n",
    "    \n",
    "    eeg = read_raw_gdf(fname)\n",
    "    ano_types = eeg.annotations.description.astype(int) # markers\n",
    "    ano_latency = np.round(eeg.annotations.onset, 4)\n",
    "    eeg_times = np.round(eeg.times, 4)\n",
    "    dat = eeg.get_data()\n",
    "\n",
    "    epoched_EEG = np.zeros((nCh, nTime, nTrial))\n",
    "    merge_EEG = np.array([]).reshape(nCh, nTime, 0)\n",
    "    for cur_markers in markers:\n",
    "        event_indicies = np.argwhere(ano_types == cur_markers)\n",
    "        event_latencies = ano_latency[event_indicies]\n",
    "        print('current marker is '+str(cur_markers))\n",
    "        n_trial = 0\n",
    "        for cur_latency in event_latencies:\n",
    "            m_onset = np.where(eeg_times == cur_latency)[0][0]\n",
    "            tmp_epoch = dat[:, m_onset + int(frame[0]*fs):m_onset + int(frame[1]*fs)]\n",
    "\n",
    "            # epoch-level bandpass filtering\n",
    "            tmp_epoch = butter_bandpass_filter(tmp_epoch, bp[0], bp[1], fs, 4)\n",
    "            epoched_EEG[:, :, n_trial] = tmp_epoch\n",
    "            n_trial = n_trial + 1\n",
    "        merge_EEG = np.dstack((merge_EEG, epoched_EEG))\n",
    "    merge_EEG = np.transpose(merge_EEG, (2, 0, 1)) # now [trial x ch x time]\n",
    "    \n",
    "    train_EEG = np.vstack((train_EEG, merge_EEG))\n",
    "    train_labels = np.append(train_labels, tmp_labels)    \n",
    "    \n",
    "cov_train = pyriemann.estimation.Covariances().fit_transform(train_EEG)\n",
    "print(train_EEG.shape)\n",
    "print(train_labels.shape)"
   ]
  },
  {
   "cell_type": "markdown",
   "id": "c3151ff3",
   "metadata": {},
   "source": [
    "### Evaluating performance with test EEG"
   ]
  },
  {
   "cell_type": "code",
   "execution_count": 155,
   "id": "5cae14db",
   "metadata": {},
   "outputs": [
    {
     "name": "stdout",
     "output_type": "stream",
     "text": [
      "./data/s01/MI_run04.gdf\n",
      "Extracting EDF parameters from /Users/kyunghowon/PyRiemann_to_OV/data/s01/MI_run04.gdf...\n",
      "GDF file detected\n",
      "Setting channel info structure...\n",
      "Could not determine channel type of the following channels, they will be set as EEG:\n",
      "FP1, FP2, F4, Fz, F3, T7, C3, Cz, C4, T8, P4, Pz, P3, O1, Oz, O2\n",
      "Creating raw.info structure...\n"
     ]
    },
    {
     "name": "stderr",
     "output_type": "stream",
     "text": [
      "/var/folders/k1/q406tggx1bl9zn8ls0_4pdsc0000gn/T/ipykernel_4658/2046320893.py:11: RuntimeWarning: Omitted 1 annotation(s) that were outside data range.\n",
      "  eeg = read_raw_gdf(fname)\n"
     ]
    },
    {
     "name": "stdout",
     "output_type": "stream",
     "text": [
      "current marker is 769\n",
      "current marker is 770\n",
      "current marker is 774\n",
      "current marker is 780\n",
      "./data/s01/MI_run05.gdf\n",
      "Extracting EDF parameters from /Users/kyunghowon/PyRiemann_to_OV/data/s01/MI_run05.gdf...\n",
      "GDF file detected\n",
      "Setting channel info structure...\n",
      "Could not determine channel type of the following channels, they will be set as EEG:\n",
      "FP1, FP2, F4, Fz, F3, T7, C3, Cz, C4, T8, P4, Pz, P3, O1, Oz, O2\n",
      "Creating raw.info structure...\n"
     ]
    },
    {
     "name": "stderr",
     "output_type": "stream",
     "text": [
      "/var/folders/k1/q406tggx1bl9zn8ls0_4pdsc0000gn/T/ipykernel_4658/2046320893.py:11: RuntimeWarning: Omitted 1 annotation(s) that were outside data range.\n",
      "  eeg = read_raw_gdf(fname)\n"
     ]
    },
    {
     "name": "stdout",
     "output_type": "stream",
     "text": [
      "current marker is 769\n",
      "current marker is 770\n",
      "current marker is 774\n",
      "current marker is 780\n",
      "./data/s01/MI_run06.gdf\n",
      "Extracting EDF parameters from /Users/kyunghowon/PyRiemann_to_OV/data/s01/MI_run06.gdf...\n",
      "GDF file detected\n",
      "Setting channel info structure...\n",
      "Could not determine channel type of the following channels, they will be set as EEG:\n",
      "FP1, FP2, F4, Fz, F3, T7, C3, Cz, C4, T8, P4, Pz, P3, O1, Oz, O2\n",
      "Creating raw.info structure...\n"
     ]
    },
    {
     "name": "stderr",
     "output_type": "stream",
     "text": [
      "/var/folders/k1/q406tggx1bl9zn8ls0_4pdsc0000gn/T/ipykernel_4658/2046320893.py:11: RuntimeWarning: Omitted 1 annotation(s) that were outside data range.\n",
      "  eeg = read_raw_gdf(fname)\n"
     ]
    },
    {
     "name": "stdout",
     "output_type": "stream",
     "text": [
      "current marker is 769\n",
      "current marker is 770\n",
      "current marker is 774\n",
      "current marker is 780\n",
      "(120, 16, 1280)\n",
      "(120,)\n"
     ]
    }
   ],
   "source": [
    "test_EEG = np.array([]).reshape(0, nCh, nTime)\n",
    "test_labels = []\n",
    "tmp_labels = [[(j+1) for i in range(10)] for j in range(nClass)]\n",
    "tmp_labels = np.array(tmp_labels)\n",
    "tmp_labels = np.reshape(tmp_labels, (tmp_labels.shape[0]*tmp_labels.shape[1]))\n",
    "\n",
    "for i in range(3,6):\n",
    "    fname = './data/s01/MI_run%02d.gdf' % (i+1)\n",
    "    print(fname)\n",
    "    \n",
    "    eeg = read_raw_gdf(fname)\n",
    "    ano_types = eeg.annotations.description.astype(int) # markers\n",
    "    ano_latency = np.round(eeg.annotations.onset, 4)\n",
    "    eeg_times = np.round(eeg.times, 4)\n",
    "    dat = eeg.get_data()\n",
    "\n",
    "    epoched_EEG = np.zeros((nCh, nTime, nTrial))\n",
    "    merge_EEG = np.array([]).reshape(nCh, nTime, 0)\n",
    "    for cur_markers in markers:\n",
    "        event_indicies = np.argwhere(ano_types == cur_markers)\n",
    "        event_latencies = ano_latency[event_indicies]\n",
    "        print('current marker is '+str(cur_markers))\n",
    "        n_trial = 0\n",
    "        for cur_latency in event_latencies:\n",
    "            m_onset = np.where(eeg_times == cur_latency)[0][0]\n",
    "            tmp_epoch = dat[:, m_onset + int(frame[0]*fs):m_onset + int(frame[1]*fs)]\n",
    "\n",
    "            # epoch-level bandpass filtering\n",
    "            tmp_epoch = butter_bandpass_filter(tmp_epoch, bp[0], bp[1], fs, 4)\n",
    "            epoched_EEG[:, :, n_trial] = tmp_epoch\n",
    "            n_trial = n_trial + 1\n",
    "        merge_EEG = np.dstack((merge_EEG, epoched_EEG))\n",
    "    merge_EEG = np.transpose(merge_EEG, (2, 0, 1)) # now [trial x ch x time]\n",
    "    \n",
    "    test_EEG = np.vstack((test_EEG, merge_EEG))\n",
    "    test_labels = np.append(test_labels, tmp_labels)    \n",
    "    \n",
    "    \n",
    "cov_test = pyriemann.estimation.Covariances().fit_transform(test_EEG)\n",
    "print(test_EEG.shape)\n",
    "print(test_labels.shape)"
   ]
  },
  {
   "cell_type": "code",
   "execution_count": 171,
   "id": "fb474f1e",
   "metadata": {},
   "outputs": [
    {
     "name": "stdout",
     "output_type": "stream",
     "text": [
      "training accuracy is 0.7917\n",
      "test accuracy is 0.625\n"
     ]
    }
   ],
   "source": [
    "mdm = pyriemann.classification.MDM()\n",
    "mdm.metric = 'Riemann'\n",
    "mdm.fit(cov_train, train_labels) # training\n",
    "\n",
    "mdm_train_acc = np.sum(mdm.predict(cov_train) == train_labels) / len(train_labels) # train - meaningless\n",
    "print('training accuracy is', np.round(mdm_train_acc,4))\n",
    "\n",
    "mdm_acc = np.sum(mdm.predict(cov_test) == test_labels) / len(test_labels) # test\n",
    "print('test accuracy is',np.round(mdm_acc,4))"
   ]
  },
  {
   "cell_type": "code",
   "execution_count": 161,
   "id": "ac8ffcf7",
   "metadata": {},
   "outputs": [],
   "source": [
    "import sklearn\n",
    "import seaborn as sns"
   ]
  },
  {
   "cell_type": "code",
   "execution_count": 164,
   "id": "77a6900e",
   "metadata": {},
   "outputs": [
    {
     "data": {
      "image/png": "[encoded data removed]",
      "text/plain": [
       "<Figure size 432x288 with 2 Axes>"
      ]
     },
     "metadata": {
      "needs_background": "light"
     },
     "output_type": "display_data"
    }
   ],
   "source": [
    "confusion_mdm = sklearn.metrics.confusion_matrix(test_labels, mdm.predict(cov_test)) # y_true, y_pred\n",
    "ax = sns.heatmap(confusion_mdm, annot=True, fmt=\"d\")"
   ]
  },
  {
   "cell_type": "markdown",
   "id": "b7ff581e",
   "metadata": {},
   "source": [
    "### References\n",
    "\n",
    "[1] A. Barachant, M. Congedo ,\"A Plug&Play P300 BCI Using Information Geometry\", arXiv:1409.0107. link\n",
    "\n",
    "[2] M. Congedo, A. Barachant, A. Andreev ,\"A New generation of Brain-Computer Interface Based on Riemannian Geometry\", arXiv: 1310.8115. link\n",
    "\n",
    "[3] A. Barachant and S. Bonnet, \"Channel selection procedure using riemannian distance for BCI applications,\" in 2011 5th International IEEE/EMBS Conference on Neural Engineering (NER), 2011, 348-351. pdf\n",
    "\n",
    "[4] A. Barachant, S. Bonnet, M. Congedo and C. Jutten, \"Multiclass Brain-Computer Interface Classification by Riemannian Geometry,\" in IEEE Transactions on Biomedical Engineering, vol. 59, no. 4, p. 920-928, 2012. pdf\n",
    "\n",
    "[5] A. Barachant, S. Bonnet, M. Congedo and C. Jutten, \"Classification of covariance matrices using a Riemannian-based kernel for BCI applications\", in NeuroComputing, vol. 112, p. 172-178, 2013. pdf"
   ]
  }
 ],
 "metadata": {
  "kernelspec": {
   "display_name": "Python 3 (ipykernel)",
   "language": "python",
   "name": "python3"
  },
  "language_info": {
   "codemirror_mode": {
    "name": "ipython",
    "version": 3
   },
   "file_extension": ".py",
   "mimetype": "text/x-python",
   "name": "python",
   "nbconvert_exporter": "python",
   "pygments_lexer": "ipython3",
   "version": "3.7.11"
  }
 },
 "nbformat": 4,
 "nbformat_minor": 5
}
